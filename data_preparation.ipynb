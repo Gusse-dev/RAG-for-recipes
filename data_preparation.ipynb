{
 "cells": [
  {
   "cell_type": "code",
   "execution_count": 1,
   "metadata": {},
   "outputs": [],
   "source": [
    "import pandas as pd\n",
    "from collections import Counter\n",
    "import re"
   ]
  },
  {
   "cell_type": "code",
   "execution_count": 2,
   "metadata": {},
   "outputs": [],
   "source": [
    "def set_pandas_display_options() -> None:\n",
    "    \n",
    "    display = pd.options.display\n",
    "\n",
    "    display.max_columns = 1000\n",
    "    display.max_rows = 10_000\n",
    "    display.max_colwidth = 199\n",
    "    display.width = 1000\n",
    "\n",
    "set_pandas_display_options()"
   ]
  },
  {
   "cell_type": "markdown",
   "metadata": {},
   "source": [
    "### Read in and clean data"
   ]
  },
  {
   "cell_type": "code",
   "execution_count": 3,
   "metadata": {},
   "outputs": [
    {
     "data": {
      "text/html": [
       "<div>\n",
       "<style scoped>\n",
       "    .dataframe tbody tr th:only-of-type {\n",
       "        vertical-align: middle;\n",
       "    }\n",
       "\n",
       "    .dataframe tbody tr th {\n",
       "        vertical-align: top;\n",
       "    }\n",
       "\n",
       "    .dataframe thead th {\n",
       "        text-align: right;\n",
       "    }\n",
       "</style>\n",
       "<table border=\"1\" class=\"dataframe\">\n",
       "  <thead>\n",
       "    <tr style=\"text-align: right;\">\n",
       "      <th></th>\n",
       "      <th>Unnamed: 0</th>\n",
       "      <th>title</th>\n",
       "      <th>ingredients</th>\n",
       "      <th>directions</th>\n",
       "      <th>link</th>\n",
       "      <th>source</th>\n",
       "      <th>NER</th>\n",
       "    </tr>\n",
       "  </thead>\n",
       "  <tbody>\n",
       "    <tr>\n",
       "      <th>0</th>\n",
       "      <td>0</td>\n",
       "      <td>No-Bake Nut Cookies</td>\n",
       "      <td>[\"1 c. firmly packed brown sugar\", \"1/2 c. evaporated milk\", \"1/2 tsp. vanilla\", \"1/2 c. broken nuts (pecans)\", \"2 Tbsp. butter or margarine\", \"3 1/2 c. bite size shredded rice biscuits\"]</td>\n",
       "      <td>[\"In a heavy 2-quart saucepan, mix brown sugar, nuts, evaporated milk and butter or margarine.\", \"Stir over medium heat until mixture bubbles all over top.\", \"Boil and stir 5 minutes more. Take o...</td>\n",
       "      <td>www.cookbooks.com/Recipe-Details.aspx?id=44874</td>\n",
       "      <td>Gathered</td>\n",
       "      <td>[\"brown sugar\", \"milk\", \"vanilla\", \"nuts\", \"butter\", \"bite size shredded rice biscuits\"]</td>\n",
       "    </tr>\n",
       "    <tr>\n",
       "      <th>1</th>\n",
       "      <td>1</td>\n",
       "      <td>Jewell Ball'S Chicken</td>\n",
       "      <td>[\"1 small jar chipped beef, cut up\", \"4 boned chicken breasts\", \"1 can cream of mushroom soup\", \"1 carton sour cream\"]</td>\n",
       "      <td>[\"Place chipped beef on bottom of baking dish.\", \"Place chicken on top of beef.\", \"Mix soup and cream together; pour over chicken. Bake, uncovered, at 275\\u00b0 for 3 hours.\"]</td>\n",
       "      <td>www.cookbooks.com/Recipe-Details.aspx?id=699419</td>\n",
       "      <td>Gathered</td>\n",
       "      <td>[\"beef\", \"chicken breasts\", \"cream of mushroom soup\", \"sour cream\"]</td>\n",
       "    </tr>\n",
       "    <tr>\n",
       "      <th>2</th>\n",
       "      <td>2</td>\n",
       "      <td>Creamy Corn</td>\n",
       "      <td>[\"2 (16 oz.) pkg. frozen corn\", \"1 (8 oz.) pkg. cream cheese, cubed\", \"1/3 c. butter, cubed\", \"1/2 tsp. garlic powder\", \"1/2 tsp. salt\", \"1/4 tsp. pepper\"]</td>\n",
       "      <td>[\"In a slow cooker, combine all ingredients. Cover and cook on low for 4 hours or until heated through and cheese is melted. Stir well before serving. Yields 6 servings.\"]</td>\n",
       "      <td>www.cookbooks.com/Recipe-Details.aspx?id=10570</td>\n",
       "      <td>Gathered</td>\n",
       "      <td>[\"frozen corn\", \"cream cheese\", \"butter\", \"garlic powder\", \"salt\", \"pepper\"]</td>\n",
       "    </tr>\n",
       "    <tr>\n",
       "      <th>3</th>\n",
       "      <td>3</td>\n",
       "      <td>Chicken Funny</td>\n",
       "      <td>[\"1 large whole chicken\", \"2 (10 1/2 oz.) cans chicken gravy\", \"1 (10 1/2 oz.) can cream of mushroom soup\", \"1 (6 oz.) box Stove Top stuffing\", \"4 oz. shredded cheese\"]</td>\n",
       "      <td>[\"Boil and debone chicken.\", \"Put bite size pieces in average size square casserole dish.\", \"Pour gravy and cream of mushroom soup over chicken; level.\", \"Make stuffing according to instructions ...</td>\n",
       "      <td>www.cookbooks.com/Recipe-Details.aspx?id=897570</td>\n",
       "      <td>Gathered</td>\n",
       "      <td>[\"chicken\", \"chicken gravy\", \"cream of mushroom soup\", \"shredded cheese\"]</td>\n",
       "    </tr>\n",
       "    <tr>\n",
       "      <th>4</th>\n",
       "      <td>4</td>\n",
       "      <td>Reeses Cups(Candy)</td>\n",
       "      <td>[\"1 c. peanut butter\", \"3/4 c. graham cracker crumbs\", \"1 c. melted butter\", \"1 lb. (3 1/2 c.) powdered sugar\", \"1 large pkg. chocolate chips\"]</td>\n",
       "      <td>[\"Combine first four ingredients and press in 13 x 9-inch ungreased pan.\", \"Melt chocolate chips and spread over mixture. Refrigerate for about 20 minutes and cut into pieces before chocolate get...</td>\n",
       "      <td>www.cookbooks.com/Recipe-Details.aspx?id=659239</td>\n",
       "      <td>Gathered</td>\n",
       "      <td>[\"peanut butter\", \"graham cracker crumbs\", \"butter\", \"powdered sugar\", \"chocolate chips\"]</td>\n",
       "    </tr>\n",
       "  </tbody>\n",
       "</table>\n",
       "</div>"
      ],
      "text/plain": [
       "   Unnamed: 0                  title                                                                                                                                                                                  ingredients                                                                                                                                                                                              directions                                             link    source                                                                                        NER\n",
       "0           0    No-Bake Nut Cookies  [\"1 c. firmly packed brown sugar\", \"1/2 c. evaporated milk\", \"1/2 tsp. vanilla\", \"1/2 c. broken nuts (pecans)\", \"2 Tbsp. butter or margarine\", \"3 1/2 c. bite size shredded rice biscuits\"]  [\"In a heavy 2-quart saucepan, mix brown sugar, nuts, evaporated milk and butter or margarine.\", \"Stir over medium heat until mixture bubbles all over top.\", \"Boil and stir 5 minutes more. Take o...   www.cookbooks.com/Recipe-Details.aspx?id=44874  Gathered   [\"brown sugar\", \"milk\", \"vanilla\", \"nuts\", \"butter\", \"bite size shredded rice biscuits\"]\n",
       "1           1  Jewell Ball'S Chicken                                                                       [\"1 small jar chipped beef, cut up\", \"4 boned chicken breasts\", \"1 can cream of mushroom soup\", \"1 carton sour cream\"]                         [\"Place chipped beef on bottom of baking dish.\", \"Place chicken on top of beef.\", \"Mix soup and cream together; pour over chicken. Bake, uncovered, at 275\\u00b0 for 3 hours.\"]  www.cookbooks.com/Recipe-Details.aspx?id=699419  Gathered                        [\"beef\", \"chicken breasts\", \"cream of mushroom soup\", \"sour cream\"]\n",
       "2           2            Creamy Corn                                  [\"2 (16 oz.) pkg. frozen corn\", \"1 (8 oz.) pkg. cream cheese, cubed\", \"1/3 c. butter, cubed\", \"1/2 tsp. garlic powder\", \"1/2 tsp. salt\", \"1/4 tsp. pepper\"]                             [\"In a slow cooker, combine all ingredients. Cover and cook on low for 4 hours or until heated through and cheese is melted. Stir well before serving. Yields 6 servings.\"]   www.cookbooks.com/Recipe-Details.aspx?id=10570  Gathered               [\"frozen corn\", \"cream cheese\", \"butter\", \"garlic powder\", \"salt\", \"pepper\"]\n",
       "3           3          Chicken Funny                     [\"1 large whole chicken\", \"2 (10 1/2 oz.) cans chicken gravy\", \"1 (10 1/2 oz.) can cream of mushroom soup\", \"1 (6 oz.) box Stove Top stuffing\", \"4 oz. shredded cheese\"]  [\"Boil and debone chicken.\", \"Put bite size pieces in average size square casserole dish.\", \"Pour gravy and cream of mushroom soup over chicken; level.\", \"Make stuffing according to instructions ...  www.cookbooks.com/Recipe-Details.aspx?id=897570  Gathered                  [\"chicken\", \"chicken gravy\", \"cream of mushroom soup\", \"shredded cheese\"]\n",
       "4           4   Reeses Cups(Candy)                                                [\"1 c. peanut butter\", \"3/4 c. graham cracker crumbs\", \"1 c. melted butter\", \"1 lb. (3 1/2 c.) powdered sugar\", \"1 large pkg. chocolate chips\"]  [\"Combine first four ingredients and press in 13 x 9-inch ungreased pan.\", \"Melt chocolate chips and spread over mixture. Refrigerate for about 20 minutes and cut into pieces before chocolate get...  www.cookbooks.com/Recipe-Details.aspx?id=659239  Gathered  [\"peanut butter\", \"graham cracker crumbs\", \"butter\", \"powdered sugar\", \"chocolate chips\"]"
      ]
     },
     "execution_count": 3,
     "metadata": {},
     "output_type": "execute_result"
    }
   ],
   "source": [
    "# Load the CSV file to determine the number of rows\n",
    "total_rows = sum(1 for line in open('data/RecipeNLG_dataset.csv'))  \n",
    "\n",
    "percentage = total_rows // 10\n",
    "\n",
    "df = pd.read_csv('data/RecipeNLG_dataset.csv', nrows=percentage)\n",
    "df.head(5)"
   ]
  },
  {
   "cell_type": "code",
   "execution_count": 4,
   "metadata": {},
   "outputs": [],
   "source": [
    "# Cleaning\n",
    "df = df.drop(columns=['Unnamed: 0', 'source', 'NER'])\n",
    "\n",
    "df['ingredients'] = df['ingredients'].str.lower()\n",
    "words = df['ingredients'].apply(lambda x: re.findall(r'\\w+', x)).explode()\n",
    "word_counts = Counter(words)\n",
    "\n",
    "df['ingredients'] = df['ingredients'].str.replace('[', '')\n",
    "df['ingredients'] = df['ingredients'].str.replace(']', '')\n",
    "df['ingredients'] = df['ingredients'].str.replace('\"', '')\n",
    "df['directions'] = df['directions'].str.replace('[', '')\n",
    "df['directions'] = df['directions'].str.replace(']', '')\n",
    "df['directions'] = df['directions'].str.replace('\"', '')\n",
    "\n",
    "df['ingredients'] = df['ingredients'].str.replace('tsp.','teaspoon')\n",
    "df['ingredients'] = df['ingredients'].str.replace('tbsp.','tablespoon')\n",
    "df['ingredients'] = df['ingredients'].str.replace('oz.','ounces')\n",
    "df['ingredients'] = df['ingredients'].str.replace('lb.','pound')\n",
    "df['ingredients'] = df['ingredients'].str.replace('pkg.','package')\n",
    "df['ingredients'] = df['ingredients'].str.replace('c.','cups')\n",
    "df['ingredients'] = df['ingredients'].str.replace('\\\\','/')\n",
    "\n",
    "df['directions'] = df['directions'].str.replace('.,',',')\n",
    "\n",
    "df['directions'] = df['directions'].str.replace('\\\\u00b0', ' degree')"
   ]
  },
  {
   "cell_type": "markdown",
   "metadata": {},
   "source": [
    "### Restructuring and saving "
   ]
  },
  {
   "cell_type": "code",
   "execution_count": 5,
   "metadata": {},
   "outputs": [
    {
     "data": {
      "text/html": [
       "<div>\n",
       "<style scoped>\n",
       "    .dataframe tbody tr th:only-of-type {\n",
       "        vertical-align: middle;\n",
       "    }\n",
       "\n",
       "    .dataframe tbody tr th {\n",
       "        vertical-align: top;\n",
       "    }\n",
       "\n",
       "    .dataframe thead th {\n",
       "        text-align: right;\n",
       "    }\n",
       "</style>\n",
       "<table border=\"1\" class=\"dataframe\">\n",
       "  <thead>\n",
       "    <tr style=\"text-align: right;\">\n",
       "      <th></th>\n",
       "      <th>title</th>\n",
       "      <th>ingredients</th>\n",
       "      <th>directions</th>\n",
       "    </tr>\n",
       "  </thead>\n",
       "  <tbody>\n",
       "    <tr>\n",
       "      <th>0</th>\n",
       "      <td>No-Bake Nut Cookies</td>\n",
       "      <td>1 cups firmly packed brown sugar, 1/2 cups evaporated milk, 1/2 teaspoon vanilla, 1/2 cups broken nuts (pecans), 2 tablespoon butter or margarine, 3 1/2 cups bite size shredded rice biscuits</td>\n",
       "      <td>In a heavy 2-quart saucepan, mix brown sugar, nuts, evaporated milk and butter or margarine, Stir over medium heat until mixture bubbles all over top, Boil and stir 5 minutes more. Take off heat,...</td>\n",
       "    </tr>\n",
       "    <tr>\n",
       "      <th>1</th>\n",
       "      <td>Jewell Ball'S Chicken</td>\n",
       "      <td>1 small jar chipped beef, cut up, 4 boned chicken breasts, 1 can cream of mushroom soup, 1 carton sour cream</td>\n",
       "      <td>Place chipped beef on bottom of baking dish, Place chicken on top of beef, Mix soup and cream together; pour over chicken. Bake, uncovered, at 275 degree for 3 hours.</td>\n",
       "    </tr>\n",
       "    <tr>\n",
       "      <th>2</th>\n",
       "      <td>Creamy Corn</td>\n",
       "      <td>2 (16 ounces) package frozen corn, 1 (8 ounces) package cream cheese, cubed, 1/3 cups butter, cubed, 1/2 teaspoon garlic powder, 1/2 teaspoon salt, 1/4 teaspoon pepper</td>\n",
       "      <td>In a slow cooker, combine all ingredients. Cover and cook on low for 4 hours or until heated through and cheese is melted. Stir well before serving. Yields 6 servings.</td>\n",
       "    </tr>\n",
       "    <tr>\n",
       "      <th>3</th>\n",
       "      <td>Chicken Funny</td>\n",
       "      <td>1 large whole chicken, 2 (10 1/2 ounces) cans chicken gravy, 1 (10 1/2 ounces) can cream of mushroom soup, 1 (6 ounces) box stove top stuffing, 4 ounces shredded cheese</td>\n",
       "      <td>Boil and debone chicken, Put bite size pieces in average size square casserole dish, Pour gravy and cream of mushroom soup over chicken; level, Make stuffing according to instructions on box (do ...</td>\n",
       "    </tr>\n",
       "    <tr>\n",
       "      <th>4</th>\n",
       "      <td>Reeses Cups(Candy)</td>\n",
       "      <td>1 cups peanut butter, 3/4 cups graham cracker crumbs, 1 cups melted butter, 1 pound (3 1/2 cups) powdered sugar, 1 large package chocolate chips</td>\n",
       "      <td>Combine first four ingredients and press in 13 x 9-inch ungreased pan, Melt chocolate chips and spread over mixture. Refrigerate for about 20 minutes and cut into pieces before chocolate gets har...</td>\n",
       "    </tr>\n",
       "  </tbody>\n",
       "</table>\n",
       "</div>"
      ],
      "text/plain": [
       "                   title                                                                                                                                                                                     ingredients                                                                                                                                                                                              directions\n",
       "0    No-Bake Nut Cookies  1 cups firmly packed brown sugar, 1/2 cups evaporated milk, 1/2 teaspoon vanilla, 1/2 cups broken nuts (pecans), 2 tablespoon butter or margarine, 3 1/2 cups bite size shredded rice biscuits  In a heavy 2-quart saucepan, mix brown sugar, nuts, evaporated milk and butter or margarine, Stir over medium heat until mixture bubbles all over top, Boil and stir 5 minutes more. Take off heat,...\n",
       "1  Jewell Ball'S Chicken                                                                                    1 small jar chipped beef, cut up, 4 boned chicken breasts, 1 can cream of mushroom soup, 1 carton sour cream                                  Place chipped beef on bottom of baking dish, Place chicken on top of beef, Mix soup and cream together; pour over chicken. Bake, uncovered, at 275 degree for 3 hours.\n",
       "2            Creamy Corn                         2 (16 ounces) package frozen corn, 1 (8 ounces) package cream cheese, cubed, 1/3 cups butter, cubed, 1/2 teaspoon garlic powder, 1/2 teaspoon salt, 1/4 teaspoon pepper                                 In a slow cooker, combine all ingredients. Cover and cook on low for 4 hours or until heated through and cheese is melted. Stir well before serving. Yields 6 servings.\n",
       "3          Chicken Funny                        1 large whole chicken, 2 (10 1/2 ounces) cans chicken gravy, 1 (10 1/2 ounces) can cream of mushroom soup, 1 (6 ounces) box stove top stuffing, 4 ounces shredded cheese  Boil and debone chicken, Put bite size pieces in average size square casserole dish, Pour gravy and cream of mushroom soup over chicken; level, Make stuffing according to instructions on box (do ...\n",
       "4   Reeses Cups(Candy)                                                  1 cups peanut butter, 3/4 cups graham cracker crumbs, 1 cups melted butter, 1 pound (3 1/2 cups) powdered sugar, 1 large package chocolate chips  Combine first four ingredients and press in 13 x 9-inch ungreased pan, Melt chocolate chips and spread over mixture. Refrigerate for about 20 minutes and cut into pieces before chocolate gets har..."
      ]
     },
     "execution_count": 5,
     "metadata": {},
     "output_type": "execute_result"
    }
   ],
   "source": [
    "feature_df = df[['title','ingredients','directions']]\n",
    "feature_df.to_csv('data/recipe_store.csv', sep=';')\n",
    "feature_df.head(5)"
   ]
  }
 ],
 "metadata": {
  "kernelspec": {
   "display_name": "env",
   "language": "python",
   "name": "python3"
  },
  "language_info": {
   "codemirror_mode": {
    "name": "ipython",
    "version": 3
   },
   "file_extension": ".py",
   "mimetype": "text/x-python",
   "name": "python",
   "nbconvert_exporter": "python",
   "pygments_lexer": "ipython3",
   "version": "3.10.12"
  }
 },
 "nbformat": 4,
 "nbformat_minor": 2
}
