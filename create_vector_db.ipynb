{
 "cells": [
  {
   "cell_type": "code",
   "execution_count": 1,
   "metadata": {},
   "outputs": [],
   "source": [
    "import chromadb\n",
    "import pandas as pd\n",
    "from tqdm import tqdm\n",
    "from sentence_transformers import SentenceTransformer\n",
    "import torch"
   ]
  },
  {
   "cell_type": "code",
   "execution_count": 2,
   "metadata": {},
   "outputs": [],
   "source": [
    "device = \"cuda\" if torch.cuda.is_available() else \"cpu\""
   ]
  },
  {
   "cell_type": "markdown",
   "metadata": {},
   "source": [
    "### Create Chromadb and initialize model for embeddings"
   ]
  },
  {
   "cell_type": "code",
   "execution_count": null,
   "metadata": {},
   "outputs": [],
   "source": [
    "persistentClient = chromadb.PersistentClient(path=\"recipe_vector_db\")\n",
    "recipe_collection = persistentClient.get_or_create_collection( \n",
    "       name=\"recipes\", \n",
    "       metadata={\"hnsw:space\": \"cosine\"}\n",
    ")\n",
    "\n",
    "model = SentenceTransformer(\"all-MiniLM-L6-v2\")\n",
    "model = model.to(device)"
   ]
  },
  {
   "cell_type": "markdown",
   "metadata": {},
   "source": [
    "### Create Embeddings"
   ]
  },
  {
   "cell_type": "code",
   "execution_count": null,
   "metadata": {},
   "outputs": [],
   "source": [
    "df = pd.read_csv(\"data/recipe_store.csv\", delimiter=\";\")\n",
    "df = df.drop(columns=['Unnamed: 0'])\n",
    "\n",
    "def combine_recipe(row):\n",
    "    return f\"{row['title']} {row['ingredients']} {row['directions']}\"\n",
    "\n",
    "# Generate embeddings for each recipe\n",
    "recipes = df.apply(combine_recipe, axis=1).tolist()\n",
    "embeddings = model.encode(recipes, show_progress_bar=True)"
   ]
  },
  {
   "cell_type": "code",
   "execution_count": null,
   "metadata": {},
   "outputs": [
    {
     "name": "stdout",
     "output_type": "stream",
     "text": [
      "223115\n"
     ]
    }
   ],
   "source": [
    "print(len(embeddings))"
   ]
  },
  {
   "cell_type": "markdown",
   "metadata": {},
   "source": [
    "### Create vector store"
   ]
  },
  {
   "cell_type": "code",
   "execution_count": null,
   "metadata": {},
   "outputs": [
    {
     "name": "stderr",
     "output_type": "stream",
     "text": [
      "100%|██████████| 223115/223115 [1:07:14<00:00, 55.31it/s]\n"
     ]
    }
   ],
   "source": [
    "for idx, recipe in tqdm(enumerate(recipes),total=len(recipes)):\n",
    "    recipe_collection.add(\n",
    "    documents=[recipe],  # the text for each recipe\n",
    "    metadatas=[{\"title\": df.iloc[idx][\"title\"]}],  # metadata: title\n",
    "    embeddings=[embeddings[idx]],  # corresponding embedding\n",
    "    ids=str(idx)\n",
    "    )"
   ]
  },
  {
   "cell_type": "markdown",
   "metadata": {},
   "source": [
    "### Query the vector store"
   ]
  },
  {
   "cell_type": "code",
   "execution_count": null,
   "metadata": {},
   "outputs": [
    {
     "name": "stdout",
     "output_type": "stream",
     "text": [
      "Potato Soup potatoes, diced, onion, chopped Boil until potatoes are done, Mash with mixer.\n",
      "Seasoned Potatoes potatoes, canola oil, seasoned salt Use amounts depending on servings needed.\n",
      "Surprise Potatoes 9 medium potatoes, 1 1/2 pt. (24 ounces) half and half, salt and pepper, onion powder, butter Boil potatoes with skins on, Cool in refrigerator (overnight is best), Then pare cooled potatoes, Grate 1/2 of the potatoes into a buttered casserole dish (13 x 9 x 2-inch), Sprinkle with salt, pepper and onion powder, Dot with butter.\n",
      "Smothered Potatoes 3 to 4 large potatoes, 1/2 cups minced onions, salt and pepper to taste Dice potatoes and along with onions brown quickly in small amount of grease in skillet, After browning, add enough water to cover, cover and simmer until tender, Add water if they cook down and are not quite soft enough, Serves 3 to 4 people.\n",
      "Lemon-Parsleyed Potatoes 1 1/2 pound tiny new potatoes, 1/4 cups butter, 1/4 cups snipped parsley, 1 tablespoon lemon juice Wash and slice potatoes, Cook in boiling salted water until tender; drain, Place in a serving bowl and keep warm, Melt butter, Stir in parsley and lemon juice, Pour over potatoes; stir lightly to coat, Serves 4 to 6.\n"
     ]
    }
   ],
   "source": [
    "query = \"Potatoes\"\n",
    "query_embedding = model.encode([query])\n",
    "\n",
    "results = recipe_collection.query(\n",
    "    query_embeddings=query_embedding,\n",
    "    n_results=5  \n",
    ")\n",
    "\n",
    "for result in results['documents'][0]:\n",
    "    print(result)\n"
   ]
  }
 ],
 "metadata": {
  "kernelspec": {
   "display_name": "env",
   "language": "python",
   "name": "python3"
  },
  "language_info": {
   "codemirror_mode": {
    "name": "ipython",
    "version": 3
   },
   "file_extension": ".py",
   "mimetype": "text/x-python",
   "name": "python",
   "nbconvert_exporter": "python",
   "pygments_lexer": "ipython3",
   "version": "3.10.12"
  }
 },
 "nbformat": 4,
 "nbformat_minor": 2
}
